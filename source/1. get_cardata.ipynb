{
 "cells": [
  {
   "cell_type": "code",
   "execution_count": null,
   "id": "99bd841f-c17b-4fd2-a951-3f18eb153683",
   "metadata": {},
   "outputs": [],
   "source": [
    "import warnings\n",
    "warnings.filterwarnings(action='ignore')\n",
    "\n",
    "from selenium import webdriver\n",
    "from selenium.webdriver.chrome.service import Service\n",
    "from selenium.webdriver.chrome.options import Options\n",
    "from selenium.webdriver.common.by import By\n",
    "import time\n",
    "from tqdm import tqdm_notebook\n",
    "from selenium.webdriver.support.select import Select\n",
    "# 브라우저 꺼짐 방지 - 추가 1\n",
    "chrome_options = Options()\n",
    "chrome_options.add_experimental_option(\"detach\", True)\n",
    "# 불필요한 에러 메세지 없애기 - 추가 3\n",
    "chrome_options.add_experimental_option(\"excludeSwitches\",[\"enable-logging\"])"
   ]
  },
  {
   "cell_type": "code",
   "execution_count": null,
   "id": "8a983746-30fe-4b16-8c57-dbed51a62964",
   "metadata": {},
   "outputs": [],
   "source": [
    "driver = webdriver.Chrome(options=chrome_options)\n",
    "driver.get(\"https://tmacs.kotsa.or.kr/web/TG/TG200/TG2100S/Tg2102.jsp?mid=S1177#\")"
   ]
  },
  {
   "cell_type": "code",
   "execution_count": null,
   "id": "6467a23f-70ef-41d8-9816-d1a44fbbe079",
   "metadata": {},
   "outputs": [],
   "source": [
    "# 2018년\n",
    "year = Select(driver.find_element(By.CSS_SELECTOR, \"#std_year\"))\n",
    "year.select_by_index(4)\n",
    "# 상세검색\n",
    "button = driver.find_element(By.CSS_SELECTOR, \"#content > div.cont_box > div.filterForm > div.btn_wrap.btn-2 > a.btn.btn_secondary.btn_more\")\n",
    "button.click()\n",
    "# 서울\n",
    "si = Select(driver.find_element(By.CSS_SELECTOR, \"#sido\"))\n",
    "si.select_by_index(1)"
   ]
  },
  {
   "cell_type": "code",
   "execution_count": null,
   "id": "0f6e6413-3e37-4812-83ac-49f0623f2b3b",
   "metadata": {},
   "outputs": [],
   "source": [
    "# 연령별\n",
    "age = driver.find_element(By.CSS_SELECTOR, \"#content > div.cont_box > div.filterForm > div.form_wrap > div > dl:nth-child(3) > dd > span:nth-child(1) > input[type=radio]\")\n",
    "age.click()\n",
    "time.sleep(2)\n",
    "for i in tqdm_notebook(range(1,32)):\n",
    "    gu = Select(driver.find_element(By.CSS_SELECTOR, \"#jijace\"))\n",
    "    gu.select_by_index(i)\n",
    "    time.sleep(3)\n",
    "    view = driver.find_element(By.CSS_SELECTOR, \"#content > div.cont_box > div.filterForm > div.btn_wrap.btn-2 > a.btn.btn_primary\")\n",
    "    view.click()\n",
    "    time.sleep(3)\n",
    "    get_excel = driver.find_element(By.CSS_SELECTOR, \"#content > div.cont_box > div:nth-child(2) > div.btn_box.type02 > a.btn.exbtn\")\n",
    "    get_excel.click()\n",
    "    time.sleep(2)\n",
    "    \n",
    "# 성별\n",
    "gender = driver.find_element(By.CSS_SELECTOR, \"#content > div.cont_box > div.filterForm > div.form_wrap > div > dl:nth-child(3) > dd > span:nth-child(2) > input[type=radio]\")\n",
    "gender.click()\n",
    "time.sleep(2)\n",
    "\n",
    "for i in tqdm_notebook(range(1,32)):\n",
    "    gu = Select(driver.find_element(By.CSS_SELECTOR, \"#jijace\"))\n",
    "    gu.select_by_index(i)\n",
    "    time.sleep(3)\n",
    "    view = driver.find_element(By.CSS_SELECTOR, \"#content > div.cont_box > div.filterForm > div.btn_wrap.btn-2 > a.btn.btn_primary\")\n",
    "    view.click()\n",
    "    time.sleep(3)\n",
    "    get_excel = driver.find_element(By.CSS_SELECTOR, \"#content > div.cont_box > div:nth-child(2) > div.btn_box.type02 > a.btn.exbtn\")\n",
    "    get_excel.click()\n",
    "    time.sleep(2)\n",
    "    \n",
    "# 경력별\n",
    "career = driver.find_element(By.CSS_SELECTOR, \"#content > div.cont_box > div.filterForm > div.form_wrap > div > dl:nth-child(3) > dd > span:nth-child(3) > input[type=radio]\")\n",
    "career.click()\n",
    "time.sleep(2)\n",
    "\n",
    "for i in tqdm_notebook(range(1,32)):\n",
    "    gu = Select(driver.find_element(By.CSS_SELECTOR, \"#jijace\"))\n",
    "    gu.select_by_index(i)\n",
    "    time.sleep(3)\n",
    "    view = driver.find_element(By.CSS_SELECTOR, \"#content > div.cont_box > div.filterForm > div.btn_wrap.btn-2 > a.btn.btn_primary\")\n",
    "    view.click()\n",
    "    time.sleep(3)\n",
    "    get_excel = driver.find_element(By.CSS_SELECTOR, \"#content > div.cont_box > div:nth-child(2) > div.btn_box.type02 > a.btn.exbtn\")\n",
    "    get_excel.click()\n",
    "    time.sleep(2)"
   ]
  }
 ],
 "metadata": {
  "kernelspec": {
   "display_name": "Python 3 (ipykernel)",
   "language": "python",
   "name": "python3"
  },
  "language_info": {
   "codemirror_mode": {
    "name": "ipython",
    "version": 3
   },
   "file_extension": ".py",
   "mimetype": "text/x-python",
   "name": "python",
   "nbconvert_exporter": "python",
   "pygments_lexer": "ipython3",
   "version": "3.11.7"
  }
 },
 "nbformat": 4,
 "nbformat_minor": 5
}
