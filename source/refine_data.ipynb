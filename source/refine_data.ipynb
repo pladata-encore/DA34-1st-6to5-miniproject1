{
 "cells": [
  {
   "cell_type": "code",
   "execution_count": null,
   "id": "7e1ce8fb-2f7c-48a8-8155-b450679bcf3d",
   "metadata": {},
   "outputs": [],
   "source": [
    "import pandas as pd\n",
    "import numpy as np\n",
    "import glob\n",
    "name_list = glob.glob(\"../data/day/교통사고*.xls\")\n",
    "name_list[0]"
   ]
  },
  {
   "cell_type": "code",
   "execution_count": null,
   "id": "5190f173-b86b-4682-b5fc-c4f18f16fb89",
   "metadata": {},
   "outputs": [],
   "source": [
    "df = pd.read_excel(name_list[0],usecols=[0,1,2,3,4,8],header=1)\n",
    "df = df.loc[1:,:]\n",
    "df"
   ]
  },
  {
   "cell_type": "code",
   "execution_count": null,
   "id": "46ac6dfa-e076-4e34-8a43-bac70eefb225",
   "metadata": {},
   "outputs": [],
   "source": [
    "df = df[df[\"지자체\"].notnull()]\n",
    "df[\"연도\"] = df[\"연도\"].astype(int)\n",
    "df[\"연도\"] = df[\"연도\"].astype(str)"
   ]
  },
  {
   "cell_type": "code",
   "execution_count": null,
   "id": "4cea0669-7436-4942-a08d-155a89869d5b",
   "metadata": {},
   "outputs": [],
   "source": [
    "df_day = pd.DataFrame()\n",
    "for i in name_list:\n",
    "    df = pd.read_excel(i,usecols=[0,1,2,3,4,8],header=1)\n",
    "    df = df.loc[1:,:]\n",
    "    df = df[df[\"지자체\"].notnull()]\n",
    "    df[\"연도\"] = df[\"연도\"].astype(int)\n",
    "    df[\"연도\"] = df[\"연도\"].astype(str)\n",
    "    df_day = pd.concat([df_day,df])\n",
    "df_day"
   ]
  },
  {
   "cell_type": "code",
   "execution_count": null,
   "id": "c0cd68eb-1df4-4dac-b42e-3b04f3afc40b",
   "metadata": {},
   "outputs": [],
   "source": [
    "df_day.columns = [\"시도\", \"구\", \"연도\", \"요일별\", \"발생건수\", \"사망자수\"]\n",
    "df_day.to_excel(\"../result/서울_요일별_raw.xlsx\")\n",
    "df_day = df_day.pivot_table(index=['시도', '구', '연도'], columns = '요일별', values=['발생건수', '사망자수'],\n",
    "                    aggfunc= 'sum')"
   ]
  },
  {
   "cell_type": "code",
   "execution_count": null,
   "id": "30133cc4-39a1-4893-808d-a62a05d2d4e9",
   "metadata": {},
   "outputs": [],
   "source": [
    "new_columns = []\n",
    "for num in range(int(len(df_day.columns)/2)):\n",
    "    new_columns.append('발생_'+df_day.columns[num][1])\n",
    "for num in range(int(len(df_day.columns)/2)):\n",
    "    new_columns.append('사망_'+df_day.columns[num][1])\n",
    "df_day.columns = new_columns\n",
    "df_day_r = df_day.reset_index() "
   ]
  },
  {
   "cell_type": "code",
   "execution_count": null,
   "id": "36956341-8ee8-4585-8331-7a243826fa22",
   "metadata": {},
   "outputs": [],
   "source": [
    "df_day_r.to_excel(\"../result/서울_요일별.xlsx\")"
   ]
  },
  {
   "cell_type": "code",
   "execution_count": null,
   "id": "c0045338-7ef8-414d-8996-10fd87c1f69d",
   "metadata": {},
   "outputs": [],
   "source": [
    "name_list = glob.glob(\"../data/holiday/교통사고*.xls\")\n",
    "name_list[0]"
   ]
  },
  {
   "cell_type": "code",
   "execution_count": null,
   "id": "7f241d93-ab8a-4db2-95ab-afffcb99b596",
   "metadata": {},
   "outputs": [],
   "source": [
    "df_holiday = pd.DataFrame()\n",
    "name_list = glob.glob(\"../data/holiday/교통사고*.xls\")\n",
    "for i in name_list:\n",
    "    df = pd.read_excel(i,usecols=[0,1,2,3,4,8],header=1)\n",
    "    df = df.loc[1:,:]\n",
    "    df = df[df[\"지자체\"].notnull()]\n",
    "    df[\"연도\"] = df[\"연도\"].astype(int)\n",
    "    df[\"연도\"] = df[\"연도\"].astype(str)\n",
    "    df_holiday = pd.concat([df_holiday,df])\n",
    "df_holiday.columns = [\"시도\", \"구\", \"연도\", \"평일/휴일\", \"발생건수\", \"사망자수\"]\n",
    "df_holiday"
   ]
  },
  {
   "cell_type": "code",
   "execution_count": null,
   "id": "9fbffd85-4d6f-422a-ac98-98656290a294",
   "metadata": {},
   "outputs": [],
   "source": [
    "df_holiday = df_holiday.pivot_table(index=['시도', '구', '연도'], columns = '평일/휴일', values=['발생건수', '사망자수'],\n",
    "                    aggfunc= 'sum')"
   ]
  },
  {
   "cell_type": "code",
   "execution_count": null,
   "id": "98b1eb41-1119-41e8-912d-a886633c60ef",
   "metadata": {},
   "outputs": [],
   "source": [
    "d = df_holiday\n",
    "new_columns = []\n",
    "for num in range(int(len(d.columns)/2)):\n",
    "    new_columns.append('발생_'+d.columns[num][1])\n",
    "for num in range(int(len(d.columns)/2)):\n",
    "    new_columns.append('사망_'+d.columns[num][1])\n",
    "d.columns = new_columns\n",
    "df_holiday_r = d.reset_index()\n",
    "df_holiday_r"
   ]
  },
  {
   "cell_type": "code",
   "execution_count": null,
   "id": "d51b7d39-a3b1-498b-abee-5d572f95a02c",
   "metadata": {},
   "outputs": [],
   "source": [
    "df_holiday_r.to_excel(\"../result/서울_평일휴일.xlsx\")"
   ]
  },
  {
   "cell_type": "code",
   "execution_count": null,
   "id": "ae532a49-3fe3-41e1-a9bc-db8060ab0752",
   "metadata": {},
   "outputs": [],
   "source": [
    "df_m = pd.DataFrame()\n",
    "name_list = glob.glob(\"../data/month/교통사고*.xls\")\n",
    "for i in name_list:\n",
    "    df = pd.read_excel(i,usecols=[0,1,2,3,4,8],header=1)\n",
    "    df = df.loc[1:,:]\n",
    "    df = df[df[\"지자체\"].notnull()]\n",
    "    df[\"연도\"] = df[\"연도\"].astype(int)\n",
    "    df[\"연도\"] = df[\"연도\"].astype(str)\n",
    "    df_m = pd.concat([df_m,df])\n",
    "df_m.columns = [\"시도\", \"구\", \"연도\", \"월별\", \"발생건수\", \"사망자수\"]\n",
    "df_m"
   ]
  },
  {
   "cell_type": "code",
   "execution_count": null,
   "id": "69d6264f-0a77-40ad-8f40-3cf74dbed477",
   "metadata": {},
   "outputs": [],
   "source": [
    "df_m.to_excel(\"../result/서울_월별_raw.xlsx\")"
   ]
  },
  {
   "cell_type": "code",
   "execution_count": null,
   "id": "ea659ddf-beb4-4478-9067-2920c1f2374a",
   "metadata": {},
   "outputs": [],
   "source": [
    "df_m = df_m.pivot_table(index=['시도', '구', '연도'], columns = '월별', values=['발생건수', '사망자수'],\n",
    "                    aggfunc= 'sum')\n",
    "d = df_m\n",
    "new_columns = []\n",
    "for num in range(int(len(d.columns)/2)):\n",
    "    new_columns.append('발생_'+d.columns[num][1])\n",
    "for num in range(int(len(d.columns)/2)):\n",
    "    new_columns.append('사망_'+d.columns[num][1])\n",
    "d.columns = new_columns\n",
    "df_m_r = d.reset_index()\n",
    "df_m_r"
   ]
  },
  {
   "cell_type": "code",
   "execution_count": null,
   "id": "f7878350-7f06-44e7-8434-db8df60d9dba",
   "metadata": {},
   "outputs": [],
   "source": [
    "df_m_r.to_excel(\"../result/서울_월별.xlsx\")"
   ]
  },
  {
   "cell_type": "code",
   "execution_count": null,
   "id": "db0e94e1-3935-4435-928f-e95d67de31e1",
   "metadata": {},
   "outputs": [],
   "source": [
    "d = df_w\n",
    "new_columns = []\n",
    "for num in range(int(len(d.columns)/2)):\n",
    "    new_columns.append('발생_'+d.columns[num][1])\n",
    "for num in range(int(len(d.columns)/2)):\n",
    "    new_columns.append('사망_'+d.columns[num][1])\n",
    "d.columns = new_columns\n",
    "df_w_r = d.reset_index()\n",
    "df_w_r"
   ]
  },
  {
   "cell_type": "code",
   "execution_count": null,
   "id": "9fe76fc6-028e-4194-ac55-303a3b9858dd",
   "metadata": {},
   "outputs": [],
   "source": [
    "df_w_r.to_excel(\"../result/서울_기상상태.xlsx\")"
   ]
  }
 ],
 "metadata": {
  "kernelspec": {
   "display_name": "Python 3 (ipykernel)",
   "language": "python",
   "name": "python3"
  },
  "language_info": {
   "codemirror_mode": {
    "name": "ipython",
    "version": 3
   },
   "file_extension": ".py",
   "mimetype": "text/x-python",
   "name": "python",
   "nbconvert_exporter": "python",
   "pygments_lexer": "ipython3",
   "version": "3.11.7"
  }
 },
 "nbformat": 4,
 "nbformat_minor": 5
}
